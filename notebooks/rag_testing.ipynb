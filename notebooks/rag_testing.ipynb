{
 "cells": [
  {
   "cell_type": "code",
   "execution_count": 16,
   "id": "3c03155a",
   "metadata": {},
   "outputs": [
    {
     "name": "stderr",
     "output_type": "stream",
     "text": [
      "Both `max_new_tokens` (=256) and `max_length`(=256) seem to have been set. `max_new_tokens` will take precedence. Please refer to the documentation for more information. (https://huggingface.co/docs/transformers/main/en/main_classes/text_generation)\n"
     ]
    },
    {
     "name": "stdout",
     "output_type": "stream",
     "text": [
      "🔍 Query: What is SST data?\n",
      "💬 Response:\n"
     ]
    },
    {
     "name": "stderr",
     "output_type": "stream",
     "text": [
      "Both `max_new_tokens` (=256) and `max_length`(=256) seem to have been set. `max_new_tokens` will take precedence. Please refer to the documentation for more information. (https://huggingface.co/docs/transformers/main/en/main_classes/text_generation)\n"
     ]
    },
    {
     "name": "stdout",
     "output_type": "stream",
     "text": [
      "SST data is a measure of the amount of time it takes for a meteor to rise above the Earth's surface.\n",
      "------------------------------------------------------------\n",
      "🔍 Query: How can I register on MOSDAC?\n",
      "💬 Response:\n"
     ]
    },
    {
     "name": "stderr",
     "output_type": "stream",
     "text": [
      "Both `max_new_tokens` (=256) and `max_length`(=256) seem to have been set. `max_new_tokens` will take precedence. Please refer to the documentation for more information. (https://huggingface.co/docs/transformers/main/en/main_classes/text_generation)\n"
     ]
    },
    {
     "name": "stdout",
     "output_type": "stream",
     "text": [
      "enter your email address and password\n",
      "------------------------------------------------------------\n",
      "🔍 Query: Which satellite provides ocean data?\n",
      "💬 Response:\n",
      "MOSDAC\n",
      "------------------------------------------------------------\n"
     ]
    }
   ],
   "source": [
    "import sys\n",
    "import os\n",
    "sys.path.append(os.path.abspath(os.path.join(os.path.dirname(os.getcwd()), 'src')))\n",
    "from query import process_query\n",
    "\n",
    "\n",
    "queries = [\n",
    "    \"What is SST data?\",\n",
    "    \"How can I register on MOSDAC?\",\n",
    "    \"Which satellite provides ocean data?\"\n",
    "]\n",
    "\n",
    "for q in queries:\n",
    "    print(f\"🔍 Query: {q}\")\n",
    "    print(\"💬 Response:\")\n",
    "    print(process_query(q))\n",
    "    print(\"-\" * 60)\n",
    "from sentence_transformers import util\n",
    "\n",
    "def evaluate_retrieval(query, retrieved_docs):\n",
    "    query_vec = model.encode(query)\n",
    "    scores = [util.cos_sim(query_vec, model.encode(doc))[0][0].item() for doc in retrieved_docs]\n",
    "    return scores\n",
    "\n"
   ]
  }
 ],
 "metadata": {
  "kernelspec": {
   "display_name": "Python 3",
   "language": "python",
   "name": "python3"
  },
  "language_info": {
   "codemirror_mode": {
    "name": "ipython",
    "version": 3
   },
   "file_extension": ".py",
   "mimetype": "text/x-python",
   "name": "python",
   "nbconvert_exporter": "python",
   "pygments_lexer": "ipython3",
   "version": "3.13.2"
  }
 },
 "nbformat": 4,
 "nbformat_minor": 5
}
